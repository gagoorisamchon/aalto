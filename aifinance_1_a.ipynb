{
  "nbformat": 4,
  "nbformat_minor": 0,
  "metadata": {
    "colab": {
      "provenance": [],
      "include_colab_link": true
    },
    "kernelspec": {
      "name": "python3",
      "display_name": "Python 3"
    },
    "language_info": {
      "name": "python"
    }
  },
  "cells": [
    {
      "cell_type": "markdown",
      "metadata": {
        "id": "view-in-github",
        "colab_type": "text"
      },
      "source": [
        "<a href=\"https://colab.research.google.com/github/gagoorisamchon/aalto/blob/main/aifinance_1_a.ipynb\" target=\"_parent\"><img src=\"https://colab.research.google.com/assets/colab-badge.svg\" alt=\"Open In Colab\"/></a>"
      ]
    },
    {
      "cell_type": "markdown",
      "source": [
        "FinanceDataReader를 사용해 상관분석을 시작해 본다.\n",
        "이 값은 Pearson Correlation Coefficient이다."
      ],
      "metadata": {
        "id": "2NvcAfsUm7v_"
      }
    },
    {
      "cell_type": "code",
      "source": [
        "from google.colab import drive\n",
        "drive.mount('/content/drive')"
      ],
      "metadata": {
        "id": "taqBleE70xAp"
      },
      "execution_count": null,
      "outputs": []
    },
    {
      "cell_type": "markdown",
      "source": [
        "먼저 finance-reader를 설치한다."
      ],
      "metadata": {
        "id": "isA76wuKnF0x"
      }
    },
    {
      "cell_type": "code",
      "source": [
        "pip install -q finance-datareader"
      ],
      "metadata": {
        "id": "p7scBRoCnHAg"
      },
      "execution_count": null,
      "outputs": []
    },
    {
      "cell_type": "markdown",
      "source": [
        "필요한 모듈을 임포트 한다."
      ],
      "metadata": {
        "id": "dOkVBNfynJrk"
      }
    },
    {
      "cell_type": "code",
      "source": [
        "import numpy as np\n",
        "import FinanceDataReader as fdr\n",
        "import pandas as pd\n",
        "import matplotlib.pyplot as plt"
      ],
      "metadata": {
        "id": "cogfFv1LnU_-"
      },
      "execution_count": null,
      "outputs": []
    },
    {
      "cell_type": "markdown",
      "source": [
        "읽어들일 기간을 설정한다."
      ],
      "metadata": {
        "id": "9JbnYMGPnX_n"
      }
    },
    {
      "cell_type": "code",
      "source": [
        "start_date ='2016-01-01'\n",
        "end_date = '2023-12-31'"
      ],
      "metadata": {
        "id": "42YxdtZhnaeq"
      },
      "execution_count": null,
      "outputs": []
    },
    {
      "cell_type": "markdown",
      "source": [
        "값을 읽어올 종목의 이름과 심볼 기호를 설정한다."
      ],
      "metadata": {
        "id": "Iboxt6FondO1"
      }
    },
    {
      "cell_type": "code",
      "source": [
        "tickers = ['005930', '066570']\n",
        "names = ['Samsung', 'LGE']"
      ],
      "metadata": {
        "id": "2ffczuA3nfZW"
      },
      "execution_count": null,
      "outputs": []
    },
    {
      "cell_type": "markdown",
      "source": [
        "월별 수익률을 기록할 데이터프레임을 선언한다."
      ],
      "metadata": {
        "id": "UAze6y98npKm"
      }
    },
    {
      "cell_type": "code",
      "source": [
        "WINDOW = 20   # 20 영업일 간격으로 수익률 변화를 계산\n",
        "df = pd.DataFrame()   # 주가 데이터를 저장할 데이터프레임"
      ],
      "metadata": {
        "id": "T8SVX2LUnuZG"
      },
      "execution_count": null,
      "outputs": []
    },
    {
      "cell_type": "markdown",
      "source": [
        "주가 중 종가를 읽어 온다."
      ],
      "metadata": {
        "id": "Y8t367apnyQd"
      }
    },
    {
      "cell_type": "code",
      "source": [
        "for ticker in tickers:\n",
        "  df[ ticker ] = fdr.DataReader( ticker, start_date, end_date ).Close"
      ],
      "metadata": {
        "id": "cTrPJj8on0vg"
      },
      "execution_count": null,
      "outputs": []
    },
    {
      "cell_type": "markdown",
      "source": [
        "WINDOW에서 지정한 간격으로 수익률을 계산한 다음, NaN 부분의 행은 모두 삭제한다."
      ],
      "metadata": {
        "id": "9O2fZw4Rn-Z9"
      }
    },
    {
      "cell_type": "code",
      "source": [
        "w_ret = df.pct_change(WINDOW).dropna()"
      ],
      "metadata": {
        "id": "vefscNtZoBCf"
      },
      "execution_count": null,
      "outputs": []
    },
    {
      "cell_type": "markdown",
      "source": [
        "가독성을 위해 티커심볼 대신, 회사 이름을 설정한다."
      ],
      "metadata": {
        "id": "GSzeIv6hoDWq"
      }
    },
    {
      "cell_type": "code",
      "source": [
        "df.columns = names\n",
        "w_ret.columns = names"
      ],
      "metadata": {
        "id": "_V8Y1zvBoF1C"
      },
      "execution_count": null,
      "outputs": []
    },
    {
      "cell_type": "markdown",
      "source": [
        "corr 메서드를 호출해서 피어슨 상관지수를 구한다."
      ],
      "metadata": {
        "id": "zDMsqjnzpIFM"
      }
    },
    {
      "cell_type": "code",
      "source": [
        "corr_matrix = w_ret.corr()"
      ],
      "metadata": {
        "id": "szetSs3VpMBy"
      },
      "execution_count": null,
      "outputs": []
    },
    {
      "cell_type": "markdown",
      "source": [
        "결과로 모든 쌍에 대해 계산된 행렬이 만들어 진다.\n",
        "이 행렬을 한번 출력해 보자."
      ],
      "metadata": {
        "id": "dakznYQDpOAu"
      }
    },
    {
      "cell_type": "code",
      "source": [
        "print(corr_matrix)"
      ],
      "metadata": {
        "colab": {
          "base_uri": "https://localhost:8080/"
        },
        "id": "KZ3J3i0CpQhk",
        "outputId": "48f91e78-231f-4671-caee-f924a3b19cf5"
      },
      "execution_count": null,
      "outputs": [
        {
          "output_type": "stream",
          "name": "stdout",
          "text": [
            "         Samsung      LGE\n",
            "Samsung  1.00000  0.52617\n",
            "LGE      0.52617  1.00000\n"
          ]
        }
      ]
    }
  ]
}